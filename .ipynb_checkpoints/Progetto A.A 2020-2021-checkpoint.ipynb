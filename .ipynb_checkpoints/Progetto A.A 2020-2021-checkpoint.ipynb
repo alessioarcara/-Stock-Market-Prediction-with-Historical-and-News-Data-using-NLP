{
 "cells": [
  {
   "cell_type": "markdown",
   "id": "366e8906",
   "metadata": {},
   "source": [
    "# Progetto A.A 2020-2021\n",
    "\n",
    "<strong>Programmazione di Applicazioni Data Intensive</strong><br>\n",
    "Arcara Alessio <br> alessio.arcara@studio.unibo.it <br> Matricola: 0900061028<br>\n",
    "<a href=\"https://www.kaggle.com/aaron7sun/stocknews\">Kaggle: Daily News for Stock Market Prediction</a>"
   ]
  },
  {
   "cell_type": "markdown",
   "id": "78589f41",
   "metadata": {},
   "source": [
    "## Introduzione\n",
    "\n",
    "Il dataset scelto è composto da due file *csv* :\n",
    "1. <strong>Stocks data</strong>: Indice Dow Jones Industrial Average (DJIA) composto dalle trenta imprese industriali statunitensi più redditizie del mercato. <br>*(Range: 2008-08-08 to 2016-07-01)*\n",
    "2. <strong>News data</strong>: i titoli dei post dal canale Reddit WorldNews (<a href=\"https://www.reddit.com/r/worldnews/\">/r/worldnews</a>). Sono classificate con i voti degli utenti reddit, e solo i 25 migliori titoli sono considerati per singolo giorno. <br>*(Range: 2008-06-08 to 2016-07-01)*\n",
    "\n",
    "Le <strong>32</strong> colonne considerate sono le seguenti:\n",
    "- \"Date\" (*intervallo*) $\\rightarrow$ data giornaliera di scambio del titolo azionario,\n",
    "- \"Open, High, Low, Close, Adj Close\" (*numerica*) $\\rightarrow$ prezzo di apertura, chiusura e prezzo minimo, massimo giornaliero del titolo azionario.\n",
    "- \"Volume\" (*ratio*) $\\rightarrow$ quantità scambiata giornalmente del titolo azionario.\n",
    "- \"Top1,...,Top25\" (*testo*) $\\rightarrow$ i titoli dei migliori 25 post giornalieri del canale Reddit WorldNews.\n",
    "\n",
    "Le istanze fornite sono <strong>1989</strong> e la variabile da predire \"Label\", che verrà creata e spiegata nel dettaglio nelle seguenti sezioni, è una variabile discreta multiclasse (-1, 0, 1). \n",
    "\n",
    "### È possibile prevedere il mercato?\n",
    "\n",
    "Una \"passeggiata aleatoria\" è un fenomeno statistico in cui una variabile non segue un andamento distinguibile e si muove apparentemente in modo casuale. La teoria del <strong>random walk</strong>, applicata ai mercati finanziari, delineata più chiaramente da Burton Malkiel, postula che il prezzo dei titoli si muove casualmente, e che, quindi, ogni tentativo di prevedere il movimento futuro dei prezzi, attraverso l'analisi fondamentale o tecnica, è inutile.\n",
    "\n",
    "L'obiettivo è generare modelli in grado di prevedere se l'indice DJIA avrà al giorno $t$ un movimento rialzista o ribassista, in modo da generare un profitto investendo in un fondo che si basi su tale indice.\n",
    "\n",
    "Il progetto è suddiviso in due parti:<br>\n",
    "\n",
    "1. Nella prima parte verranno utilizzati i dati storici sull'andamento dell'indice DJIA per generare una predizione al tempo $t$ sul movimento rialzista (1) o ribassista (-1);\n",
    "2. Nella seconda parte si utilizzerà il testo dei titoli dei post per cercare una correlazione tra l'andamento dell'indice DJIA e notizie generiche attraverso il <strong>Natural Language Process</strong> (NLP) e dunque, migliorare i risultati precedentemente ottenuti;"
   ]
  },
  {
   "cell_type": "markdown",
   "id": "814c39bf",
   "metadata": {},
   "source": [
    "### Caricamento Librerie e Dati"
   ]
  },
  {
   "cell_type": "code",
   "execution_count": 1,
   "id": "5d689b91",
   "metadata": {},
   "outputs": [],
   "source": [
    "rnd_state = 42"
   ]
  },
  {
   "cell_type": "code",
   "execution_count": 2,
   "id": "5f5b7230",
   "metadata": {},
   "outputs": [],
   "source": [
    "# Main\n",
    "import numpy as np\n",
    "import pandas as pd\n",
    "from sklearn.model_selection import train_test_split, TimeSeriesSplit\n",
    "from sklearn.preprocessing import FunctionTransformer\n",
    "from sklearn.compose import ColumnTransformer\n",
    "from statsmodels.tsa.stattools import adfuller\n",
    "from datetime import datetime\n",
    "import nltk\n",
    "\n",
    "# Visualization\n",
    "import matplotlib.pyplot as plt\n",
    "from ipywidgets import interact\n",
    "from matplotlib.lines import Line2D\n",
    "import seaborn as sns\n",
    "\n",
    "# Librerie RapidsAI\n",
    "import cuml\n",
    "import cudf\n",
    "import cupy"
   ]
  },
  {
   "cell_type": "code",
   "execution_count": 3,
   "id": "8fbddb1f",
   "metadata": {},
   "outputs": [],
   "source": [
    "# Disattiviamo i warning per leggibilità\n",
    "import warnings\n",
    "warnings.filterwarnings(\"ignore\")  # Ignore deprecations for cleaner output"
   ]
  },
  {
   "cell_type": "code",
   "execution_count": 4,
   "id": "48b66727",
   "metadata": {},
   "outputs": [],
   "source": [
    "# Plot styling\n",
    "%matplotlib inline\n",
    "figsize=(25, 6)\n",
    "plt.style.use('fivethirtyeight')"
   ]
  },
  {
   "cell_type": "code",
   "execution_count": 5,
   "id": "943571d2",
   "metadata": {},
   "outputs": [
    {
     "name": "stderr",
     "output_type": "stream",
     "text": [
      "[nltk_data] Downloading package punkt to /home/diaclo/nltk_data...\n",
      "[nltk_data]   Package punkt is already up-to-date!\n",
      "[nltk_data] Downloading package stopwords to /home/diaclo/nltk_data...\n",
      "[nltk_data]   Package stopwords is already up-to-date!\n"
     ]
    },
    {
     "data": {
      "text/plain": [
       "True"
      ]
     },
     "execution_count": 5,
     "metadata": {},
     "output_type": "execute_result"
    }
   ],
   "source": [
    "nltk.download('punkt')\n",
    "nltk.download(\"stopwords\")"
   ]
  },
  {
   "cell_type": "code",
   "execution_count": 6,
   "id": "a0d4a1b1",
   "metadata": {},
   "outputs": [],
   "source": [
    "stocks = pd.read_csv(\"./archive/upload_DJIA_table.csv\", parse_dates=[\"Date\"], index_col=[\"Date\"])[::-1]"
   ]
  },
  {
   "cell_type": "markdown",
   "id": "924d60f9",
   "metadata": {},
   "source": [
    "## Preprocessing"
   ]
  },
  {
   "cell_type": "markdown",
   "id": "f817eca8",
   "metadata": {},
   "source": [
    "### Label dei dati\n",
    "*(Fonte: Capitolo 3, Advances in Financial Machine Learning, Marcos López de Prado)*\n",
    "\n",
    "I dati etichettati dicono al modello qual'è il risultato desiderato. Inoltre, se il modello effettua una predizione errata rispetto all'etichetta, si aggiusterà per avvicinarsi al risultato desiderato. <br>\n",
    "\n",
    "Similmente, con le azioni, l'etichettatura del risultato fornisce al modello un indicazione sulla classificazione \"<strong>Su</strong>\" o \"<strong>Giù</strong>\" rispetto ai dati. Successivamente, l'idea è quella di classificare con \"<strong>Su</strong>\" o \"<strong>Giù</strong>\" nuovi dati non ancora visti.\n",
    "\n",
    "Il metodo Naïve di etichettatura del risultato dell'andamento di un mercato finanziario è quello di basarsi solo sul <strong>segno</strong> del ritorno. Il principale svantaggio di quest'approccio è che non cattura la differenza di grandezza rispetto a due ritorni con lo stesso segno. *(0.01 ha lo stesso segno di 1000)*\n",
    "\n",
    "Si potrebbe procedere aggiungendo una <strong>soglia</strong>, rispetto la quale si scelgono le etichette: <br><br>\n",
    "\n",
    "<center>\n",
    "$y_i= \\begin{cases}\n",
    "1 & r_{t_0, t_1} > \\tau \\\\\n",
    "0 & |{r_{t_0, t_1}}| \\leq  \\tau \\\\\n",
    "-1 & r_{t_0, t_1} <  - \\tau\n",
    "\\end{cases}$\n",
    "</center>\n",
    "<br>\n",
    "Si migliora la precedente classificazione binaria, tuttavia la scelta della soglia statica assume che conseguentemente il mercato è statico. La varianza in un mercato finanziario è caratterizzata da un comportamento <strong>non costante</strong> <i>(volatility clustering)</i> e perciò per definizione l'andamento di un mercato finanziario è dinamico essendo una serie storica eteroschedatica.\n",
    "\n",
    "Una soluzione è di introdurre una soglia dinamica basata sulla volatilità di $n$ periodi precedenti rispetto al prezzo di chiusura corrente. Si definisce la soglia come:\n",
    "\n",
    "* $\\pm\\ \\tau = $ Prezzo corrente $\\pm$ volatilità $n$ periodi precedenti"
   ]
  },
  {
   "cell_type": "code",
   "execution_count": 7,
   "id": "e73e8116",
   "metadata": {},
   "outputs": [],
   "source": [
    "def get_daily_vol(close, window=20):\n",
    "    \"\"\"\n",
    "    Parameters:\n",
    "    ---------------------\n",
    "    close: (data frame) Closing Prices\n",
    "    window: (int) periodo rispetto al quale calcolare volatility\n",
    "    ---------------------\n",
    "    Returns:\n",
    "    ---------------------\n",
    "    rolling std (data frame)\n",
    "    ---------------------\n",
    "    \"\"\"\n",
    "    print(\"Volatilità giornaliera per threshold dinamico\")\n",
    "    \n",
    "    std = close.rolling(window).std()\n",
    "    std.iloc[0:window] = close.iloc[0:window].std()\n",
    "    \n",
    "    return std\n",
    "\n",
    "def get_label(close, std, threshold=1):\n",
    "    \"\"\"\n",
    "    Parameters:\n",
    "    ---------------------\n",
    "    close: (data frame) Closing Prices\n",
    "    std: (data frame) Rolling Std\n",
    "    threshold: (int) Valore per controllare upper_bound, lower_bound\n",
    "    ---------------------\n",
    "    Returns:\n",
    "    ---------------------\n",
    "    Label (list)\n",
    "    ---------------------\n",
    "    \"\"\"\n",
    "    print(\"Etichettatura con threshold dinamico\")\n",
    "    \n",
    "    upper_bound, lower_bound = close.shift(1)+std*threshold, close.shift(1)-std*threshold\n",
    "    \n",
    "    label = []\n",
    "    for i in range(len(close)):\n",
    "        if close.iloc[i] > upper_bound.iloc[i]:\n",
    "            label.append(1)\n",
    "        elif close.iloc[i] < lower_bound.iloc[i]:\n",
    "            label.append(-1)\n",
    "        else:\n",
    "            label.append(0)\n",
    "            \n",
    "    return label"
   ]
  },
  {
   "cell_type": "code",
   "execution_count": 8,
   "id": "a3161736",
   "metadata": {},
   "outputs": [
    {
     "name": "stdout",
     "output_type": "stream",
     "text": [
      "Volatilità giornaliera per threshold dinamico\n",
      "Etichettatura con threshold dinamico\n"
     ]
    }
   ],
   "source": [
    "std = get_daily_vol(stocks[\"Close\"])\n",
    "label = pd.Series(get_label(stocks['Close'], std, 0.2)).astype(\"category\")\n",
    "# news[\"Label2\"] = news[\"Label2\"].astype(\"category\")"
   ]
  },
  {
   "cell_type": "code",
   "execution_count": 9,
   "id": "c1d384ae",
   "metadata": {},
   "outputs": [
    {
     "ename": "NameError",
     "evalue": "name 'news' is not defined",
     "output_type": "error",
     "traceback": [
      "\u001b[0;31m---------------------------------------------------------------------------\u001b[0m",
      "\u001b[0;31mNameError\u001b[0m                                 Traceback (most recent call last)",
      "\u001b[0;32m/tmp/ipykernel_306/879287092.py\u001b[0m in \u001b[0;36m<module>\u001b[0;34m\u001b[0m\n\u001b[0;32m----> 1\u001b[0;31m \u001b[0mlabel\u001b[0m\u001b[0;34m.\u001b[0m\u001b[0mindex\u001b[0m \u001b[0;34m=\u001b[0m \u001b[0mnews\u001b[0m\u001b[0;34m.\u001b[0m\u001b[0mindex\u001b[0m\u001b[0;34m\u001b[0m\u001b[0;34m\u001b[0m\u001b[0m\n\u001b[0m",
      "\u001b[0;31mNameError\u001b[0m: name 'news' is not defined"
     ]
    }
   ],
   "source": [
    "label.index = news.index"
   ]
  },
  {
   "cell_type": "code",
   "execution_count": null,
   "id": "8391a6db",
   "metadata": {},
   "outputs": [],
   "source": [
    "label.value_counts()"
   ]
  },
  {
   "cell_type": "code",
   "execution_count": null,
   "id": "bdbdb2da",
   "metadata": {},
   "outputs": [],
   "source": [
    "# One day returns calculation through differencing by 1\n",
    "stocks[\"Delta\"] = (stocks[\"Close\"] - stocks[\"Close\"].shift(1))/stocks[\"Close\"].shift(1) * 100\n",
    "stocks.iloc[0, -1] = 0"
   ]
  },
  {
   "cell_type": "code",
   "execution_count": null,
   "id": "d9006e3a",
   "metadata": {},
   "outputs": [],
   "source": [
    "f, (ax1, ax2) = plt.subplots(2, sharex=True, sharey=True, figsize=(16,12))\n",
    "label_colors = {1: \"orange\", 0: \"black\", -1: \"green\"}\n",
    "\n",
    "legend_elements = [Line2D([0], [0], marker='o', color='w', label='Label 1', markerfacecolor='orange', markersize=10),\n",
    "                   Line2D([0], [0], marker='o', color='w', label='Label 0', markerfacecolor='black', markersize=10),\n",
    "                   Line2D([0], [0], marker='o', color='w', label='Label -1', markerfacecolor='green', markersize=10)]\n",
    "\n",
    "ax1.scatter(stocks.index, stocks[\"Delta\"], s=20, alpha=0.4, c=news[\"Label\"].map(label_colors))\n",
    "ax2.scatter(stocks.index, stocks[\"Delta\"], s=20, alpha=0.4, c=news[\"Label2\"].map(label_colors));\n",
    "ax1.set_title('Etichettatura binaria')\n",
    "ax2.set_title('Etichettatura con soglia dinamica')\n",
    "ax1.legend(handles=legend_elements[0:2], loc=\"upper right\")\n",
    "ax2.legend(handles=legend_elements, loc=\"upper right\")\n",
    "plt.show()"
   ]
  },
  {
   "cell_type": "markdown",
   "id": "167c74ca",
   "metadata": {},
   "source": [
    "### Stazionarietà e differenziazione\n",
    "*(Fonte: Capitolo 5, Advances in Financial Machine Learning, Marcos López de Prado)*\n",
    "\n",
    "Comunemente le serie storiche finanziarie sono non stazionarie. Una <strong>serie storica non stazionaria</strong> è una serie per cui proprietà come <u>media, varianza, autocorrelazione, etc cambiano nel tempo</u>. <br>\n",
    "Ora immaginiamo una situazione dove i dati che abbiamo utilizzato per creare il nostro modello di conoscenza siano significativamente differenti rispetto ai dati a regime. Questo porterà probabilmente il nostro estimatore ad avere una bassa performance.<br>"
   ]
  },
  {
   "cell_type": "code",
   "execution_count": 10,
   "id": "f5ef0351",
   "metadata": {
    "scrolled": true
   },
   "outputs": [
    {
     "data": {
      "image/png": "[encoded data removed]",
      "text/plain": [
       "<Figure size 1800x432 with 1 Axes>"
      ]
     },
     "metadata": {},
     "output_type": "display_data"
    }
   ],
   "source": [
    "stocks[\"Adj Close\"].plot(figsize=figsize)\n",
    "plt.title('DJIA Absolute Levels');\n",
    "plt.ylabel('Absolute Price Level')\n",
    "plt.xlabel('Date');"
   ]
  },
  {
   "cell_type": "markdown",
   "id": "400e0815",
   "metadata": {},
   "source": [
    "Perciò, è auspicabile rendere la <strong>serie storica stazionaria</strong> mediante una o più trasformazioni, come per esempio trasformare i prezzi nei rendimenti di prezzo $y_t - y_{t-1}$.Tuttavia, queste trasformazioni rendono la serie stazionaria, a discapito di <u>perdere tutta la memoria</u> presente nella serie originale.<br>\n",
    "Per memoria si intende come cambiamenti di osservazioni precedenti possono influenzare osservazioni future in un dato tempo. Se la serie avesse una forte memoria, analizzare il passato ci permetterebbe di ottenere informazioni su ciò che accade nel futuro.<br>"
   ]
  },
  {
   "cell_type": "code",
   "execution_count": 11,
   "id": "10fe8e16",
   "metadata": {},
   "outputs": [
    {
     "ename": "KeyError",
     "evalue": "'Delta'",
     "output_type": "error",
     "traceback": [
      "\u001b[0;31m---------------------------------------------------------------------------\u001b[0m",
      "\u001b[0;31mKeyError\u001b[0m                                  Traceback (most recent call last)",
      "\u001b[0;32m~/miniconda3/envs/rapids-21.08/lib/python3.8/site-packages/pandas/core/indexes/base.py\u001b[0m in \u001b[0;36mget_loc\u001b[0;34m(self, key, method, tolerance)\u001b[0m\n\u001b[1;32m   3080\u001b[0m             \u001b[0;32mtry\u001b[0m\u001b[0;34m:\u001b[0m\u001b[0;34m\u001b[0m\u001b[0;34m\u001b[0m\u001b[0m\n\u001b[0;32m-> 3081\u001b[0;31m                 \u001b[0;32mreturn\u001b[0m \u001b[0mself\u001b[0m\u001b[0;34m.\u001b[0m\u001b[0m_engine\u001b[0m\u001b[0;34m.\u001b[0m\u001b[0mget_loc\u001b[0m\u001b[0;34m(\u001b[0m\u001b[0mcasted_key\u001b[0m\u001b[0;34m)\u001b[0m\u001b[0;34m\u001b[0m\u001b[0;34m\u001b[0m\u001b[0m\n\u001b[0m\u001b[1;32m   3082\u001b[0m             \u001b[0;32mexcept\u001b[0m \u001b[0mKeyError\u001b[0m \u001b[0;32mas\u001b[0m \u001b[0merr\u001b[0m\u001b[0;34m:\u001b[0m\u001b[0;34m\u001b[0m\u001b[0;34m\u001b[0m\u001b[0m\n",
      "\u001b[0;32mpandas/_libs/index.pyx\u001b[0m in \u001b[0;36mpandas._libs.index.IndexEngine.get_loc\u001b[0;34m()\u001b[0m\n",
      "\u001b[0;32mpandas/_libs/index.pyx\u001b[0m in \u001b[0;36mpandas._libs.index.IndexEngine.get_loc\u001b[0;34m()\u001b[0m\n",
      "\u001b[0;32mpandas/_libs/hashtable_class_helper.pxi\u001b[0m in \u001b[0;36mpandas._libs.hashtable.PyObjectHashTable.get_item\u001b[0;34m()\u001b[0m\n",
      "\u001b[0;32mpandas/_libs/hashtable_class_helper.pxi\u001b[0m in \u001b[0;36mpandas._libs.hashtable.PyObjectHashTable.get_item\u001b[0;34m()\u001b[0m\n",
      "\u001b[0;31mKeyError\u001b[0m: 'Delta'",
      "\nThe above exception was the direct cause of the following exception:\n",
      "\u001b[0;31mKeyError\u001b[0m                                  Traceback (most recent call last)",
      "\u001b[0;32m/tmp/ipykernel_306/3882628728.py\u001b[0m in \u001b[0;36m<module>\u001b[0;34m\u001b[0m\n\u001b[1;32m      1\u001b[0m \u001b[0;31m# Ritorni giornalieri\u001b[0m\u001b[0;34m\u001b[0m\u001b[0;34m\u001b[0m\u001b[0;34m\u001b[0m\u001b[0m\n\u001b[0;32m----> 2\u001b[0;31m \u001b[0mstocks\u001b[0m\u001b[0;34m[\u001b[0m\u001b[0;34m\"Delta\"\u001b[0m\u001b[0;34m]\u001b[0m\u001b[0;34m.\u001b[0m\u001b[0mplot\u001b[0m\u001b[0;34m(\u001b[0m\u001b[0mfigsize\u001b[0m\u001b[0;34m=\u001b[0m\u001b[0mfigsize\u001b[0m\u001b[0;34m)\u001b[0m\u001b[0;34m\u001b[0m\u001b[0;34m\u001b[0m\u001b[0m\n\u001b[0m\u001b[1;32m      3\u001b[0m \u001b[0mplt\u001b[0m\u001b[0;34m.\u001b[0m\u001b[0mtitle\u001b[0m\u001b[0;34m(\u001b[0m\u001b[0;34mf'DJIA Daily Returns via Differencing 1 Day'\u001b[0m\u001b[0;34m)\u001b[0m\u001b[0;34m;\u001b[0m\u001b[0;34m\u001b[0m\u001b[0;34m\u001b[0m\u001b[0m\n\u001b[1;32m      4\u001b[0m \u001b[0mplt\u001b[0m\u001b[0;34m.\u001b[0m\u001b[0mylabel\u001b[0m\u001b[0;34m(\u001b[0m\u001b[0;34m'Daily Returns'\u001b[0m\u001b[0;34m)\u001b[0m\u001b[0;34m\u001b[0m\u001b[0;34m\u001b[0m\u001b[0m\n",
      "\u001b[0;32m~/miniconda3/envs/rapids-21.08/lib/python3.8/site-packages/pandas/core/frame.py\u001b[0m in \u001b[0;36m__getitem__\u001b[0;34m(self, key)\u001b[0m\n\u001b[1;32m   3022\u001b[0m             \u001b[0;32mif\u001b[0m \u001b[0mself\u001b[0m\u001b[0;34m.\u001b[0m\u001b[0mcolumns\u001b[0m\u001b[0;34m.\u001b[0m\u001b[0mnlevels\u001b[0m \u001b[0;34m>\u001b[0m \u001b[0;36m1\u001b[0m\u001b[0;34m:\u001b[0m\u001b[0;34m\u001b[0m\u001b[0;34m\u001b[0m\u001b[0m\n\u001b[1;32m   3023\u001b[0m                 \u001b[0;32mreturn\u001b[0m \u001b[0mself\u001b[0m\u001b[0;34m.\u001b[0m\u001b[0m_getitem_multilevel\u001b[0m\u001b[0;34m(\u001b[0m\u001b[0mkey\u001b[0m\u001b[0;34m)\u001b[0m\u001b[0;34m\u001b[0m\u001b[0;34m\u001b[0m\u001b[0m\n\u001b[0;32m-> 3024\u001b[0;31m             \u001b[0mindexer\u001b[0m \u001b[0;34m=\u001b[0m \u001b[0mself\u001b[0m\u001b[0;34m.\u001b[0m\u001b[0mcolumns\u001b[0m\u001b[0;34m.\u001b[0m\u001b[0mget_loc\u001b[0m\u001b[0;34m(\u001b[0m\u001b[0mkey\u001b[0m\u001b[0;34m)\u001b[0m\u001b[0;34m\u001b[0m\u001b[0;34m\u001b[0m\u001b[0m\n\u001b[0m\u001b[1;32m   3025\u001b[0m             \u001b[0;32mif\u001b[0m \u001b[0mis_integer\u001b[0m\u001b[0;34m(\u001b[0m\u001b[0mindexer\u001b[0m\u001b[0;34m)\u001b[0m\u001b[0;34m:\u001b[0m\u001b[0;34m\u001b[0m\u001b[0;34m\u001b[0m\u001b[0m\n\u001b[1;32m   3026\u001b[0m                 \u001b[0mindexer\u001b[0m \u001b[0;34m=\u001b[0m \u001b[0;34m[\u001b[0m\u001b[0mindexer\u001b[0m\u001b[0;34m]\u001b[0m\u001b[0;34m\u001b[0m\u001b[0;34m\u001b[0m\u001b[0m\n",
      "\u001b[0;32m~/miniconda3/envs/rapids-21.08/lib/python3.8/site-packages/pandas/core/indexes/base.py\u001b[0m in \u001b[0;36mget_loc\u001b[0;34m(self, key, method, tolerance)\u001b[0m\n\u001b[1;32m   3081\u001b[0m                 \u001b[0;32mreturn\u001b[0m \u001b[0mself\u001b[0m\u001b[0;34m.\u001b[0m\u001b[0m_engine\u001b[0m\u001b[0;34m.\u001b[0m\u001b[0mget_loc\u001b[0m\u001b[0;34m(\u001b[0m\u001b[0mcasted_key\u001b[0m\u001b[0;34m)\u001b[0m\u001b[0;34m\u001b[0m\u001b[0;34m\u001b[0m\u001b[0m\n\u001b[1;32m   3082\u001b[0m             \u001b[0;32mexcept\u001b[0m \u001b[0mKeyError\u001b[0m \u001b[0;32mas\u001b[0m \u001b[0merr\u001b[0m\u001b[0;34m:\u001b[0m\u001b[0;34m\u001b[0m\u001b[0;34m\u001b[0m\u001b[0m\n\u001b[0;32m-> 3083\u001b[0;31m                 \u001b[0;32mraise\u001b[0m \u001b[0mKeyError\u001b[0m\u001b[0;34m(\u001b[0m\u001b[0mkey\u001b[0m\u001b[0;34m)\u001b[0m \u001b[0;32mfrom\u001b[0m \u001b[0merr\u001b[0m\u001b[0;34m\u001b[0m\u001b[0;34m\u001b[0m\u001b[0m\n\u001b[0m\u001b[1;32m   3084\u001b[0m \u001b[0;34m\u001b[0m\u001b[0m\n\u001b[1;32m   3085\u001b[0m         \u001b[0;32mif\u001b[0m \u001b[0mtolerance\u001b[0m \u001b[0;32mis\u001b[0m \u001b[0;32mnot\u001b[0m \u001b[0;32mNone\u001b[0m\u001b[0;34m:\u001b[0m\u001b[0;34m\u001b[0m\u001b[0;34m\u001b[0m\u001b[0m\n",
      "\u001b[0;31mKeyError\u001b[0m: 'Delta'"
     ]
    }
   ],
   "source": [
    "# Ritorni giornalieri\n",
    "stocks[\"Delta\"].plot(figsize=figsize)\n",
    "plt.title(f'DJIA Daily Returns via Differencing 1 Day');\n",
    "plt.ylabel('Daily Returns')"
   ]
  },
  {
   "cell_type": "markdown",
   "id": "fc14c11c",
   "metadata": {},
   "source": [
    "Verrà utilizzato un test statistico per controllare se la serie storica è stazionaria. il test, anche chiamato <strong>Augmented Dickey-Fuller</strong>, ha come ipotesi nulla che è presente un <strong>Unit root</strong>, ovvero che la serie storica modella un processo stocastico casuale, dove due valori qualsiasi di $y$ non hanno nessuna correlazione e sono effettivamente casuali. <u>Una serie storica con Unit root non è stazionaria</u>. <br><br>\n",
    "Dunque, si utilizzerà la seguente funzione per controllare la stazionarità di una serie storica:"
   ]
  },
  {
   "cell_type": "code",
   "execution_count": 12,
   "id": "127cf52e",
   "metadata": {},
   "outputs": [],
   "source": [
    "# test statistic < test statistic (1%) AND p-value < 0.01\n",
    "# Reject the null hypothesis that there's unit root at the 1% significance level\n",
    "# ==> Reject H0 ==> No unit root ==> Stationary\n",
    "\n",
    "def adfuller_test(time_series, verbose=True):\n",
    "    \"\"\"\n",
    "    Parameters:\n",
    "    ---------------------\n",
    "    time_series: (list) time series to evaluate\n",
    "    ---------------------\n",
    "    Returns:\n",
    "    ---------------------\n",
    "    null hypothesis (boolean)\n",
    "    ---------------------\n",
    "    \"\"\"\n",
    "    result = adfuller(time_series, regression='c')\n",
    "    \n",
    "    if verbose:\n",
    "        print(f't-stat \\n\\t{result[0]:.2f}')\n",
    "        print(f'p-value \\n\\t{result[1]:.2f}')\n",
    "        print(f'Critical Values')\n",
    "        for key, value in result[4].items():\n",
    "            print(f'\\t{key}: {value:.2f}')\n",
    "        \n",
    "    return True if result[0] > result[4]['1%'] or result[1] > 0.01 else False  "
   ]
  },
  {
   "cell_type": "code",
   "execution_count": 13,
   "id": "7af70e91",
   "metadata": {},
   "outputs": [
    {
     "name": "stdout",
     "output_type": "stream",
     "text": [
      "t-stat \n",
      "\t-0.37\n",
      "p-value \n",
      "\t0.91\n",
      "Critical Values\n",
      "\t1%: -3.43\n",
      "\t5%: -2.86\n",
      "\t10%: -2.57\n",
      "Null hypothesis: True\n"
     ]
    }
   ],
   "source": [
    "print(f'Null hypothesis: {adfuller_test(stocks[\"Adj Close\"])}')"
   ]
  },
  {
   "cell_type": "code",
   "execution_count": 14,
   "id": "6e2b6422",
   "metadata": {},
   "outputs": [
    {
     "ename": "KeyError",
     "evalue": "'Delta'",
     "output_type": "error",
     "traceback": [
      "\u001b[0;31m---------------------------------------------------------------------------\u001b[0m",
      "\u001b[0;31mKeyError\u001b[0m                                  Traceback (most recent call last)",
      "\u001b[0;32m~/miniconda3/envs/rapids-21.08/lib/python3.8/site-packages/pandas/core/indexes/base.py\u001b[0m in \u001b[0;36mget_loc\u001b[0;34m(self, key, method, tolerance)\u001b[0m\n\u001b[1;32m   3080\u001b[0m             \u001b[0;32mtry\u001b[0m\u001b[0;34m:\u001b[0m\u001b[0;34m\u001b[0m\u001b[0;34m\u001b[0m\u001b[0m\n\u001b[0;32m-> 3081\u001b[0;31m                 \u001b[0;32mreturn\u001b[0m \u001b[0mself\u001b[0m\u001b[0;34m.\u001b[0m\u001b[0m_engine\u001b[0m\u001b[0;34m.\u001b[0m\u001b[0mget_loc\u001b[0m\u001b[0;34m(\u001b[0m\u001b[0mcasted_key\u001b[0m\u001b[0;34m)\u001b[0m\u001b[0;34m\u001b[0m\u001b[0;34m\u001b[0m\u001b[0m\n\u001b[0m\u001b[1;32m   3082\u001b[0m             \u001b[0;32mexcept\u001b[0m \u001b[0mKeyError\u001b[0m \u001b[0;32mas\u001b[0m \u001b[0merr\u001b[0m\u001b[0;34m:\u001b[0m\u001b[0;34m\u001b[0m\u001b[0;34m\u001b[0m\u001b[0m\n",
      "\u001b[0;32mpandas/_libs/index.pyx\u001b[0m in \u001b[0;36mpandas._libs.index.IndexEngine.get_loc\u001b[0;34m()\u001b[0m\n",
      "\u001b[0;32mpandas/_libs/index.pyx\u001b[0m in \u001b[0;36mpandas._libs.index.IndexEngine.get_loc\u001b[0;34m()\u001b[0m\n",
      "\u001b[0;32mpandas/_libs/hashtable_class_helper.pxi\u001b[0m in \u001b[0;36mpandas._libs.hashtable.PyObjectHashTable.get_item\u001b[0;34m()\u001b[0m\n",
      "\u001b[0;32mpandas/_libs/hashtable_class_helper.pxi\u001b[0m in \u001b[0;36mpandas._libs.hashtable.PyObjectHashTable.get_item\u001b[0;34m()\u001b[0m\n",
      "\u001b[0;31mKeyError\u001b[0m: 'Delta'",
      "\nThe above exception was the direct cause of the following exception:\n",
      "\u001b[0;31mKeyError\u001b[0m                                  Traceback (most recent call last)",
      "\u001b[0;32m/tmp/ipykernel_306/649090632.py\u001b[0m in \u001b[0;36m<module>\u001b[0;34m\u001b[0m\n\u001b[0;32m----> 1\u001b[0;31m \u001b[0mprint\u001b[0m\u001b[0;34m(\u001b[0m\u001b[0;34mf'Null hypothesis: {adfuller_test(stocks[\"Delta\"])}'\u001b[0m\u001b[0;34m)\u001b[0m\u001b[0;34m\u001b[0m\u001b[0;34m\u001b[0m\u001b[0m\n\u001b[0m",
      "\u001b[0;32m~/miniconda3/envs/rapids-21.08/lib/python3.8/site-packages/pandas/core/frame.py\u001b[0m in \u001b[0;36m__getitem__\u001b[0;34m(self, key)\u001b[0m\n\u001b[1;32m   3022\u001b[0m             \u001b[0;32mif\u001b[0m \u001b[0mself\u001b[0m\u001b[0;34m.\u001b[0m\u001b[0mcolumns\u001b[0m\u001b[0;34m.\u001b[0m\u001b[0mnlevels\u001b[0m \u001b[0;34m>\u001b[0m \u001b[0;36m1\u001b[0m\u001b[0;34m:\u001b[0m\u001b[0;34m\u001b[0m\u001b[0;34m\u001b[0m\u001b[0m\n\u001b[1;32m   3023\u001b[0m                 \u001b[0;32mreturn\u001b[0m \u001b[0mself\u001b[0m\u001b[0;34m.\u001b[0m\u001b[0m_getitem_multilevel\u001b[0m\u001b[0;34m(\u001b[0m\u001b[0mkey\u001b[0m\u001b[0;34m)\u001b[0m\u001b[0;34m\u001b[0m\u001b[0;34m\u001b[0m\u001b[0m\n\u001b[0;32m-> 3024\u001b[0;31m             \u001b[0mindexer\u001b[0m \u001b[0;34m=\u001b[0m \u001b[0mself\u001b[0m\u001b[0;34m.\u001b[0m\u001b[0mcolumns\u001b[0m\u001b[0;34m.\u001b[0m\u001b[0mget_loc\u001b[0m\u001b[0;34m(\u001b[0m\u001b[0mkey\u001b[0m\u001b[0;34m)\u001b[0m\u001b[0;34m\u001b[0m\u001b[0;34m\u001b[0m\u001b[0m\n\u001b[0m\u001b[1;32m   3025\u001b[0m             \u001b[0;32mif\u001b[0m \u001b[0mis_integer\u001b[0m\u001b[0;34m(\u001b[0m\u001b[0mindexer\u001b[0m\u001b[0;34m)\u001b[0m\u001b[0;34m:\u001b[0m\u001b[0;34m\u001b[0m\u001b[0;34m\u001b[0m\u001b[0m\n\u001b[1;32m   3026\u001b[0m                 \u001b[0mindexer\u001b[0m \u001b[0;34m=\u001b[0m \u001b[0;34m[\u001b[0m\u001b[0mindexer\u001b[0m\u001b[0;34m]\u001b[0m\u001b[0;34m\u001b[0m\u001b[0;34m\u001b[0m\u001b[0m\n",
      "\u001b[0;32m~/miniconda3/envs/rapids-21.08/lib/python3.8/site-packages/pandas/core/indexes/base.py\u001b[0m in \u001b[0;36mget_loc\u001b[0;34m(self, key, method, tolerance)\u001b[0m\n\u001b[1;32m   3081\u001b[0m                 \u001b[0;32mreturn\u001b[0m \u001b[0mself\u001b[0m\u001b[0;34m.\u001b[0m\u001b[0m_engine\u001b[0m\u001b[0;34m.\u001b[0m\u001b[0mget_loc\u001b[0m\u001b[0;34m(\u001b[0m\u001b[0mcasted_key\u001b[0m\u001b[0;34m)\u001b[0m\u001b[0;34m\u001b[0m\u001b[0;34m\u001b[0m\u001b[0m\n\u001b[1;32m   3082\u001b[0m             \u001b[0;32mexcept\u001b[0m \u001b[0mKeyError\u001b[0m \u001b[0;32mas\u001b[0m \u001b[0merr\u001b[0m\u001b[0;34m:\u001b[0m\u001b[0;34m\u001b[0m\u001b[0;34m\u001b[0m\u001b[0m\n\u001b[0;32m-> 3083\u001b[0;31m                 \u001b[0;32mraise\u001b[0m \u001b[0mKeyError\u001b[0m\u001b[0;34m(\u001b[0m\u001b[0mkey\u001b[0m\u001b[0;34m)\u001b[0m \u001b[0;32mfrom\u001b[0m \u001b[0merr\u001b[0m\u001b[0;34m\u001b[0m\u001b[0;34m\u001b[0m\u001b[0m\n\u001b[0m\u001b[1;32m   3084\u001b[0m \u001b[0;34m\u001b[0m\u001b[0m\n\u001b[1;32m   3085\u001b[0m         \u001b[0;32mif\u001b[0m \u001b[0mtolerance\u001b[0m \u001b[0;32mis\u001b[0m \u001b[0;32mnot\u001b[0m \u001b[0;32mNone\u001b[0m\u001b[0;34m:\u001b[0m\u001b[0;34m\u001b[0m\u001b[0;34m\u001b[0m\u001b[0m\n",
      "\u001b[0;31mKeyError\u001b[0m: 'Delta'"
     ]
    }
   ],
   "source": [
    "print(f'Null hypothesis: {adfuller_test(stocks[\"Delta\"])}')"
   ]
  },
  {
   "cell_type": "markdown",
   "id": "dc0b1086",
   "metadata": {},
   "source": [
    "Come possiamo vedere, il test statistico conferma ciò precedentemente descritto."
   ]
  },
  {
   "cell_type": "markdown",
   "id": "38d030c2",
   "metadata": {},
   "source": [
    "Per rendere la serie storica stazionaria e <u>minimizzare la perdita di memoria</u> si utilizzerà <strong>fractional differencing</strong>, introdotto per la prima volta nella pubblicazione scientifica <a href=\"https://www.jstor.org/stable/2335817\">“Fractional Differencing”</a> da J. R. M. Hosking.\n",
    "\n",
    "Denotiamo $B$ come operatore di spostamento all'indietro, una notazione che ci permette di scrivere in maniera compatta precedenti osservazioni della serie storica, dove ad esempio $B^kX_t=X_{t-k}$ per $k\\geq0$ e $t>1$. I polinomi con questo tipo di operatore possono essere visti come una applicazione ripetuta dello spostamento all'indietro, ad esempio $B^2X_t=X_{t-2}$. <br>In un modello frazionario, l'esponente $d$ in $(1-B)^d$ può essere un numero reale, con la seguente espansione binomiale:\n",
    "\n",
    "$$(1-B)^d=\\sum_{k=0}^\\infty\\binom d k (-B)^k$$\n",
    "$$=\\sum_{k=0}^\\infty\\frac{\\prod_{i=0}^{k-1}(d-i)(-B)^k}{k!}$$\n",
    "$$=1-dB+\\frac{d(d-1)}{2!}B^2-\\frac{d(d-1)(d-2)}{3!}B^3+...$$\n",
    "\n",
    "<br>\n",
    "Consideriamo ora la serie $X_t$ con l'operatore di spostamento $(1-B)^d$:<br><br>\n",
    "$$(1-B)^dX_t=X_t-dBX_t+\\frac{d(d-1)}{2!}B^2X_t-...$$\n",
    "\n",
    "Che può essere riscritta come:\n",
    "$$X_t=X_t-dX_{t-1}+\\frac{d(d-1)}{2!}X_{t-2}-...$$\n",
    "\n",
    "$$\\tilde{X}_t=\\sum_{k=0}^\\infty w_kX_{t-k}$$\n",
    "<br>\n",
    "<center>dove $w=${$1, -d, \\frac{d(d-1)}{2!},...$} e $X=${$X_t, X_{t-1}, ...$}</center>\n",
    "\n",
    "Possiamo perciò generare i pesi iterativamente come: \n",
    "$$w_k=-w_{k-1}\\frac{d-k+1}{k}$$\n",
    "\n",
    "<ul>\n",
    "    <li>Quando $d$ è un numero intero, $\\forall k>d = 0$ e la memoria dopo quel punto è azzerata, ad esempio $d=1$ $w=\\{1, -1, 0, 0\\}$</li>\n",
    "    <li>I pesi convergono a zero, $w_k\\rightarrow 0$</li>\n",
    "    <li>L'alternanza del segno dei pesi è necessaria per mantenere la serie storica stazionaria</li>\n",
    "</ul>"
   ]
  },
  {
   "cell_type": "code",
   "execution_count": 15,
   "id": "a04938b4",
   "metadata": {},
   "outputs": [
    {
     "name": "stdout",
     "output_type": "stream",
     "text": [
      "Plot weights [w] for each lag [k] for varying differencing value [d]\n",
      "Calcolo pesi [w] per ogni lag [k] come w_k = -w_(k-1) * (0.0 - k + 1)/k.\n",
      "Calcolo pesi [w] per ogni lag [k] come w_k = -w_(k-1) * (0.25 - k + 1)/k.\n",
      "Calcolo pesi [w] per ogni lag [k] come w_k = -w_(k-1) * (0.5 - k + 1)/k.\n",
      "Calcolo pesi [w] per ogni lag [k] come w_k = -w_(k-1) * (0.75 - k + 1)/k.\n",
      "Calcolo pesi [w] per ogni lag [k] come w_k = -w_(k-1) * (1.0 - k + 1)/k.\n"
     ]
    },
    {
     "data": {
      "image/png": "[encoded data removed]",
      "text/plain": [
       "<Figure size 1800x432 with 1 Axes>"
      ]
     },
     "metadata": {},
     "output_type": "display_data"
    }
   ],
   "source": [
    "def get_weights(d, num_k):\n",
    "    \"\"\"\n",
    "    Parameters:\n",
    "    ---------------------\n",
    "    d: (int) differencing value\n",
    "    num_k: (int) number of lags (typically length of timeseries) to calculate w\n",
    "    ---------------------\n",
    "    Returns:\n",
    "    ---------------------\n",
    "    Label (list)\n",
    "    ---------------------\n",
    "    \"\"\"\n",
    "    print(f'Calcolo pesi [w] per ogni lag [k] come w_k = -w_(k-1) * ({d} - k + 1)/k.')\n",
    "    \n",
    "    w_k = np.array([1])\n",
    "    \n",
    "    for k in range(1, num_k):\n",
    "        w_k = np.append(w_k, -w_k[-1] * ((d - k + 1)) / k)\n",
    "        \n",
    "    w_k = w_k.reshape(-1, 1) \n",
    "    \n",
    "    return w_k\n",
    "\n",
    "def plot_weights(range_d, num_k, num_d_interval):\n",
    "    \"\"\"    \n",
    "    Parameters:\n",
    "    ---------------------\n",
    "    range_d (list): range of differencing values to plot.\n",
    "    num_k (int): number of lags (typically length of timeseries) to plot.\n",
    "    num_d_interval (int): number of d interval.\n",
    "    ---------------------\n",
    "    Returns:\n",
    "    ---------------------\n",
    "    Weight for each d (dataframe)\n",
    "    ---------------------\n",
    "    \"\"\"\n",
    "    print(\"Plot weights [w] for each lag [k] for varying differencing value [d]\")\n",
    "    # Get differencing values\n",
    "    interval = np.linspace(range_d[0], range_d[1], num_d_interval)\n",
    "    \n",
    "    # Dataframe of lags (rows) * number of differencing intervals (columns)\n",
    "    df_wk = pd.DataFrame(np.zeros((num_k, num_d_interval)))\n",
    "    \n",
    "    # Get weights array per differencing value\n",
    "    for i, d in enumerate(interval):\n",
    "        df_wk[i] = get_weights(d, num_k)\n",
    "        \n",
    "    # Rename columns for legend\n",
    "    df_wk.columns = [round(x, 1) for x in interval]\n",
    "    \n",
    "    # Plot\n",
    "    df_wk.plot(figsize=figsize)\n",
    "    plt.title('Lag weights ($w_k$) for various differencing values (d)')\n",
    "    plt.legend(title='Differencing value (d)')\n",
    "    plt.ylabel('Weights (w)')\n",
    "    plt.xlabel('Lag (k)')\n",
    "    plt.show()\n",
    "    \n",
    "    # Return weights\n",
    "    return df_wk\n",
    "\n",
    "df_wk = plot_weights(range_d=[0, 1], num_k=6, num_d_interval=5)\n"
   ]
  },
  {
   "cell_type": "code",
   "execution_count": 16,
   "id": "6fe033e4",
   "metadata": {},
   "outputs": [
    {
     "data": {
      "text/html": [
       "<div>\n",
       "<style scoped>\n",
       "    .dataframe tbody tr th:only-of-type {\n",
       "        vertical-align: middle;\n",
       "    }\n",
       "\n",
       "    .dataframe tbody tr th {\n",
       "        vertical-align: top;\n",
       "    }\n",
       "\n",
       "    .dataframe thead th {\n",
       "        text-align: right;\n",
       "    }\n",
       "</style>\n",
       "<table border=\"1\" class=\"dataframe\">\n",
       "  <thead>\n",
       "    <tr style=\"text-align: right;\">\n",
       "      <th></th>\n",
       "      <th>0.0</th>\n",
       "      <th>0.2</th>\n",
       "      <th>0.5</th>\n",
       "      <th>0.8</th>\n",
       "      <th>1.0</th>\n",
       "    </tr>\n",
       "  </thead>\n",
       "  <tbody>\n",
       "    <tr>\n",
       "      <th>0</th>\n",
       "      <td>1.0</td>\n",
       "      <td>1.000000</td>\n",
       "      <td>1.000000</td>\n",
       "      <td>1.000000</td>\n",
       "      <td>1.0</td>\n",
       "    </tr>\n",
       "    <tr>\n",
       "      <th>1</th>\n",
       "      <td>-0.0</td>\n",
       "      <td>-0.250000</td>\n",
       "      <td>-0.500000</td>\n",
       "      <td>-0.750000</td>\n",
       "      <td>-1.0</td>\n",
       "    </tr>\n",
       "    <tr>\n",
       "      <th>2</th>\n",
       "      <td>-0.0</td>\n",
       "      <td>-0.093750</td>\n",
       "      <td>-0.125000</td>\n",
       "      <td>-0.093750</td>\n",
       "      <td>0.0</td>\n",
       "    </tr>\n",
       "    <tr>\n",
       "      <th>3</th>\n",
       "      <td>-0.0</td>\n",
       "      <td>-0.054688</td>\n",
       "      <td>-0.062500</td>\n",
       "      <td>-0.039062</td>\n",
       "      <td>0.0</td>\n",
       "    </tr>\n",
       "    <tr>\n",
       "      <th>4</th>\n",
       "      <td>-0.0</td>\n",
       "      <td>-0.037598</td>\n",
       "      <td>-0.039062</td>\n",
       "      <td>-0.021973</td>\n",
       "      <td>0.0</td>\n",
       "    </tr>\n",
       "    <tr>\n",
       "      <th>5</th>\n",
       "      <td>-0.0</td>\n",
       "      <td>-0.028198</td>\n",
       "      <td>-0.027344</td>\n",
       "      <td>-0.014282</td>\n",
       "      <td>0.0</td>\n",
       "    </tr>\n",
       "  </tbody>\n",
       "</table>\n",
       "</div>"
      ],
      "text/plain": [
       "   0.0       0.2       0.5       0.8  1.0\n",
       "0  1.0  1.000000  1.000000  1.000000  1.0\n",
       "1 -0.0 -0.250000 -0.500000 -0.750000 -1.0\n",
       "2 -0.0 -0.093750 -0.125000 -0.093750  0.0\n",
       "3 -0.0 -0.054688 -0.062500 -0.039062  0.0\n",
       "4 -0.0 -0.037598 -0.039062 -0.021973  0.0\n",
       "5 -0.0 -0.028198 -0.027344 -0.014282  0.0"
      ]
     },
     "execution_count": 16,
     "metadata": {},
     "output_type": "execute_result"
    }
   ],
   "source": [
    "df_wk"
   ]
  },
  {
   "cell_type": "markdown",
   "id": "612a00a3",
   "metadata": {},
   "source": [
    "Come si vede dal seguente grafico, alti valori di $d$ fanno decadere più velocemente la somma cumulativa del peso $w_k$, denotando una perdita di informazione maggiore rispetto alle osservazioni precedenti $X_{t-k}$."
   ]
  },
  {
   "cell_type": "code",
   "execution_count": 17,
   "id": "29c970b6",
   "metadata": {},
   "outputs": [
    {
     "data": {
      "image/png": "[encoded data removed]",
      "text/plain": [
       "<Figure size 1800x432 with 1 Axes>"
      ]
     },
     "metadata": {},
     "output_type": "display_data"
    }
   ],
   "source": [
    "df_wk.cumsum().plot(figsize=figsize)\n",
    "plt.title('Cumulative Sum of Lag weights ($\\sum_0^k w_k$) for various differencing values (d)')\n",
    "plt.legend(title='Differencing value ($d$)')\n",
    "plt.ylabel('Cumulative Sum of Weights ($\\sum_0^k w_k$)')\n",
    "plt.xlabel('Lag (k)');"
   ]
  },
  {
   "cell_type": "markdown",
   "id": "9c5532aa",
   "metadata": {},
   "source": [
    "Per efficienza computazionale, se $|w_k|$ cade sotto un certo <strong>threshold</strong> si termina la computazione della funzione.<br> In altre parole, calcoliamo i primi $l*$ dove $|w_{l*}|\\geq \\tau$ e $|w_{l*+1}|\\leq \\tau$ tale che avremo:\n",
    "\n",
    "$\\tilde{w_k}=\\begin{cases}\n",
    "w_k & k\\leq l* \\\\ \n",
    "0 & k>l*\n",
    "\\end{cases}$"
   ]
  },
  {
   "cell_type": "code",
   "execution_count": 18,
   "id": "6ebea0d4",
   "metadata": {},
   "outputs": [
    {
     "data": {
      "image/png": "[encoded data removed]",
      "text/plain": [
       "<Figure size 1800x432 with 1 Axes>"
      ]
     },
     "metadata": {},
     "output_type": "display_data"
    }
   ],
   "source": [
    "def get_weights_floored(d, num_k, floor=1e-3):\n",
    "    \"\"\"    \n",
    "    Calculate weights [w] for each lag [k] through come $w_k = -w_(k-1) * (d - k + 1)/k$\n",
    "    above a minimum value (floor) for the weights to prevent computation of weights for the entire time series\n",
    "    \n",
    "    Parameters:\n",
    "    ---------------------\n",
    "    d (int): differencing value.\n",
    "    num_k (int): number of lags (typically length of timeseries) to calculate w.\n",
    "    floor (float): minimum value for the weights for computational efficiency.\n",
    "    ---------------------\n",
    "    Returns:\n",
    "    ---------------------\n",
    "    Weight for each d (dataframe)\n",
    "    ---------------------\n",
    "    \"\"\"\n",
    "          \n",
    "    w_k = np.array([1])\n",
    "    k = 1\n",
    "    \n",
    "    while k < num_k:\n",
    "        w_k_latest = -w_k[-1] * ((d - k + 1)) / k\n",
    "        if abs(w_k_latest) <= floor:\n",
    "            break\n",
    "\n",
    "        w_k = np.append(w_k, w_k_latest)\n",
    "        k += 1\n",
    "\n",
    "    w_k = w_k.reshape(-1, 1) \n",
    "    return w_k\n",
    "\n",
    "d = 0.5\n",
    "num_k = 1000\n",
    "weights = get_weights_floored(d=d, num_k=num_k)\n",
    "pd.DataFrame(weights).plot(legend=False, figsize=figsize)\n",
    "\n",
    "# Plot\n",
    "plt.title(f'Lag weights ($w_k$) for differencing value $d={d}$')\n",
    "plt.ylabel('Weights (w)')\n",
    "plt.xlabel('Lag (k)');"
   ]
  },
  {
   "cell_type": "code",
   "execution_count": 19,
   "id": "cc115a38",
   "metadata": {},
   "outputs": [
    {
     "data": {
      "application/vnd.jupyter.widget-view+json": {
       "model_id": "1ea49d392de2424a9c1e0adb2f8d619d",
       "version_major": 2,
       "version_minor": 0
      },
      "text/plain": [
       "interactive(children=(Dropdown(description='d', options=(0.0, 0.125, 0.25, 0.375, 0.5, 0.625, 0.75, 0.875, 1.0…"
      ]
     },
     "metadata": {},
     "output_type": "display_data"
    }
   ],
   "source": [
    "def frac_diff(df, d, floor=1e-3):\n",
    "    \"\"\"\n",
    "    Fractionally difference time series.\n",
    "    \n",
    "    Parameters:\n",
    "    ---------------------\n",
    "    df (dataFrame): dataframe of raw time series values.\n",
    "    d (float): differencing value from 0 to 1.\n",
    "    floor (float): minimum value of weights, ignoring anything smaller.\n",
    "    ---------------------\n",
    "    Returns:\n",
    "    ---------------------\n",
    "    Weight for each d (dataframe)\n",
    "    ---------------------\n",
    "    \"\"\"\n",
    "    # Get weights window\n",
    "    weights = get_weights_floored(d=d, num_k=len(df), floor=floor)\n",
    "    weights_window_size = len(weights)\n",
    "    \n",
    "    # Reverse weights\n",
    "    weights = weights[::-1]\n",
    "    \n",
    "    # Blank fractionally differenced series to be filled\n",
    "    df_fd = []\n",
    "    df_date = []\n",
    "\n",
    "    # Slide window of time series, to calculated fractionally differenced values\n",
    "    # per window\n",
    "    for idx in range(weights_window_size, df.shape[0]):\n",
    "        # Extract datetime from timestamp\n",
    "        df_date.append(df.index[idx])\n",
    "        # Dot product of weights and original values\n",
    "        # to get fractionally differenced values\n",
    "        df_fd.append(np.dot(weights.T, df.iloc[idx - weights_window_size:idx]).item())\n",
    "    \n",
    "    return pd.DataFrame(data=df_fd, index=df_date, columns=[df.name])\n",
    "\n",
    "@interact(d=np.linspace(0, 1, 9))\n",
    "def show_plot(d=0.1):\n",
    "    df_raw_fd = frac_diff(stocks[\"Adj Close\"], d=d, floor=5e-5)\n",
    "    \n",
    "    # Plot\n",
    "    df_raw_fd.plot(figsize=figsize);\n",
    "    plt.title(f'Time series differencing for value $d={d}$')\n",
    "    plt.show()"
   ]
  },
  {
   "cell_type": "markdown",
   "id": "f96b26d8",
   "metadata": {},
   "source": [
    "Data la funzione per eseguire il procedimento appena descritto, verrà costruita una funzione ricorrente <strong>min_d_frac_diff</strong> che calcolerà il valore $d$ che minimizza la perdita di memoria e rende stazionaria la serie storica. Questa, successivamente, verrà utilizzata nel <i>FunctionTransformer</i> di Scikit-Learn per trasformare le serie storiche non stazionarie."
   ]
  },
  {
   "cell_type": "code",
   "execution_count": 20,
   "id": "99a403f2",
   "metadata": {},
   "outputs": [],
   "source": [
    "def min_d_frac_diff(df, d=0):\n",
    "    print(f\"column: {df.name}, differencing value: {round(d, 2)}\")\n",
    "    df_raw_fd = frac_diff(df, d=d, floor=5e-5)\n",
    "    if not adfuller_test(df_raw_fd, verbose=False):\n",
    "        return df_raw_fd\n",
    "    elif d >= 1:\n",
    "        return df_raw_fd \n",
    "    else:\n",
    "        return(min_d_frac_diff(df, d=d+0.05))\n",
    "    \n",
    "# Slide window of time series can be different, so dropna is necessary to make each column length equal\n",
    "def multiple_columns_min_fd(df):\n",
    "    print(f\"*** multiple columns fractional differencing ***\")\n",
    "    return pd.concat([min_d_frac_diff(df[column]) for column in df], axis=1).dropna()"
   ]
  },
  {
   "cell_type": "code",
   "execution_count": 21,
   "id": "2da7f378",
   "metadata": {},
   "outputs": [],
   "source": [
    "ts_transformer = FunctionTransformer(multiple_columns_min_fd)"
   ]
  },
  {
   "cell_type": "code",
   "execution_count": 22,
   "id": "aaa754bc",
   "metadata": {},
   "outputs": [],
   "source": [
    "time_series_features = stocks.columns[:-1]"
   ]
  },
  {
   "cell_type": "code",
   "execution_count": 23,
   "id": "da543ae5",
   "metadata": {},
   "outputs": [
    {
     "name": "stdout",
     "output_type": "stream",
     "text": [
      "*** multiple columns fractional differencing ***\n",
      "column: Open, differencing value: 0\n",
      "column: Open, differencing value: 0.05\n",
      "column: Open, differencing value: 0.1\n",
      "column: Open, differencing value: 0.15\n",
      "column: Open, differencing value: 0.2\n",
      "column: Open, differencing value: 0.25\n",
      "column: High, differencing value: 0\n",
      "column: High, differencing value: 0.05\n",
      "column: High, differencing value: 0.1\n",
      "column: High, differencing value: 0.15\n",
      "column: High, differencing value: 0.2\n",
      "column: High, differencing value: 0.25\n",
      "column: Low, differencing value: 0\n",
      "column: Low, differencing value: 0.05\n",
      "column: Low, differencing value: 0.1\n",
      "column: Low, differencing value: 0.15\n",
      "column: Low, differencing value: 0.2\n",
      "column: Low, differencing value: 0.25\n",
      "column: Close, differencing value: 0\n",
      "column: Close, differencing value: 0.05\n",
      "column: Close, differencing value: 0.1\n",
      "column: Close, differencing value: 0.15\n",
      "column: Close, differencing value: 0.2\n",
      "column: Close, differencing value: 0.25\n",
      "column: Volume, differencing value: 0\n",
      "column: Volume, differencing value: 0.05\n"
     ]
    }
   ],
   "source": [
    "preprocessor = ColumnTransformer([\n",
    "    (\"ts\", ts_transformer, time_series_features)\n",
    "])\n",
    "\n",
    "df_stocks = ts_transformer.fit_transform(stocks.iloc[:,:-1])"
   ]
  },
  {
   "cell_type": "markdown",
   "id": "95bffb90",
   "metadata": {},
   "source": [
    "Da notare come nell'esercitazione sulla borsa sono state derivate due ulteriori variabili indipendenti come $\\Delta H_t = H_t - H_{t-1}$ e $\\Delta L_t = L_t - L_{t-1}$ per diversi $t$. Con il procedimento appena descritto, in altre parole, ogni variabile $X$ al tempo $t$ è combinazione rispetto ai valori <strong>pesati</strong> di $X_{t-k}$."
   ]
  },
  {
   "cell_type": "markdown",
   "id": "dd04cf65",
   "metadata": {},
   "source": [
    "Sulla base del fenomeno del <a href=\"https://www.investopedia.com/terms/w/weekendeffect.asp\">Monday Effect</a> e del detto <a href=\"https://www.investopedia.com/terms/s/sell-in-may-and-go-away.asp\">\"Sell in May and go away\"</a> andremo a derivare due ulteriori variabili dalla data giornaliera. Per <i>Monday Effect</i> si intende un fenomeno per cui i ritorni azionari sono spesso minori rispetto ai giorni che precedono venerdì. Mentre per <i>\"Sell in May and go away\"</i> è un detto che suggerisce agli investitori di disinvestire a Maggio e di reinvestire a Novembre.<br>\n",
    "Senz'altro si basano sul <strong>comportamento irrazionale</strong> del mercato finanziario e dei suoi agenti, ma è da notare come dal 1950 al 2013 l'indice DJIA, preso da noi in considerazione, ha proprio sottoperformato nel periodo da Maggio a Ottobre rispetto al periodo da Novembre ad Aprile.<br> Pertanto, è interessante aggiungere queste due variabili e vedere come verranno interpretate dai modelli che utilizzeremo."
   ]
  },
  {
   "cell_type": "code",
   "execution_count": 24,
   "id": "205c1f1e",
   "metadata": {},
   "outputs": [],
   "source": [
    "df_stocks['month'] = df_stocks.index.month\n",
    "df_stocks['weekday'] = [datetime.strptime(str(df_stocks.index[line]), '%Y-%m-%d %H:%M:%S').weekday() for line, _ in enumerate(df_stocks.itertuples())]\n",
    "df_stocks['semes'] = abs((df_stocks.month.astype(int) - 3) // 6)"
   ]
  },
  {
   "cell_type": "markdown",
   "id": "181906cb",
   "metadata": {},
   "source": [
    "Infine, si aggiunge la variabile *label* precedentemente calcolato a *df_stocks*:"
   ]
  },
  {
   "cell_type": "code",
   "execution_count": 25,
   "id": "9975ad40",
   "metadata": {},
   "outputs": [],
   "source": [
    "df_stocks[\"Label\"] = label"
   ]
  },
  {
   "cell_type": "markdown",
   "id": "19194c3d",
   "metadata": {},
   "source": [
    "## Analisi Esplorativa"
   ]
  },
  {
   "cell_type": "code",
   "execution_count": 26,
   "id": "382b6c53",
   "metadata": {},
   "outputs": [
    {
     "data": {
      "text/html": [
       "<div>\n",
       "<style scoped>\n",
       "    .dataframe tbody tr th:only-of-type {\n",
       "        vertical-align: middle;\n",
       "    }\n",
       "\n",
       "    .dataframe tbody tr th {\n",
       "        vertical-align: top;\n",
       "    }\n",
       "\n",
       "    .dataframe thead th {\n",
       "        text-align: right;\n",
       "    }\n",
       "</style>\n",
       "<table border=\"1\" class=\"dataframe\">\n",
       "  <thead>\n",
       "    <tr style=\"text-align: right;\">\n",
       "      <th></th>\n",
       "      <th>Open</th>\n",
       "      <th>High</th>\n",
       "      <th>Low</th>\n",
       "      <th>Close</th>\n",
       "      <th>Volume</th>\n",
       "      <th>month</th>\n",
       "      <th>weekday</th>\n",
       "      <th>semes</th>\n",
       "    </tr>\n",
       "  </thead>\n",
       "  <tbody>\n",
       "    <tr>\n",
       "      <th>count</th>\n",
       "      <td>1215.000000</td>\n",
       "      <td>1215.000000</td>\n",
       "      <td>1215.000000</td>\n",
       "      <td>1215.000000</td>\n",
       "      <td>1.215000e+03</td>\n",
       "      <td>1215.000000</td>\n",
       "      <td>1215.000000</td>\n",
       "      <td>1215.000000</td>\n",
       "    </tr>\n",
       "    <tr>\n",
       "      <th>mean</th>\n",
       "      <td>2592.667876</td>\n",
       "      <td>2605.199639</td>\n",
       "      <td>2579.766270</td>\n",
       "      <td>2593.598897</td>\n",
       "      <td>7.997662e+07</td>\n",
       "      <td>6.506996</td>\n",
       "      <td>2.020576</td>\n",
       "      <td>0.506996</td>\n",
       "    </tr>\n",
       "    <tr>\n",
       "      <th>std</th>\n",
       "      <td>399.513247</td>\n",
       "      <td>390.801266</td>\n",
       "      <td>403.468549</td>\n",
       "      <td>399.894056</td>\n",
       "      <td>4.674681e+07</td>\n",
       "      <td>3.479724</td>\n",
       "      <td>1.401484</td>\n",
       "      <td>0.500157</td>\n",
       "    </tr>\n",
       "    <tr>\n",
       "      <th>min</th>\n",
       "      <td>1175.790773</td>\n",
       "      <td>1196.282012</td>\n",
       "      <td>974.465374</td>\n",
       "      <td>1175.549864</td>\n",
       "      <td>-3.827092e+07</td>\n",
       "      <td>1.000000</td>\n",
       "      <td>0.000000</td>\n",
       "      <td>0.000000</td>\n",
       "    </tr>\n",
       "    <tr>\n",
       "      <th>25%</th>\n",
       "      <td>2289.453313</td>\n",
       "      <td>2298.653209</td>\n",
       "      <td>2280.041144</td>\n",
       "      <td>2291.429359</td>\n",
       "      <td>5.514961e+07</td>\n",
       "      <td>3.000000</td>\n",
       "      <td>1.000000</td>\n",
       "      <td>0.000000</td>\n",
       "    </tr>\n",
       "    <tr>\n",
       "      <th>50%</th>\n",
       "      <td>2684.107050</td>\n",
       "      <td>2716.053357</td>\n",
       "      <td>2664.629516</td>\n",
       "      <td>2682.332552</td>\n",
       "      <td>7.148134e+07</td>\n",
       "      <td>6.000000</td>\n",
       "      <td>2.000000</td>\n",
       "      <td>1.000000</td>\n",
       "    </tr>\n",
       "    <tr>\n",
       "      <th>75%</th>\n",
       "      <td>2901.241799</td>\n",
       "      <td>2916.243042</td>\n",
       "      <td>2892.747794</td>\n",
       "      <td>2902.371369</td>\n",
       "      <td>9.134669e+07</td>\n",
       "      <td>10.000000</td>\n",
       "      <td>3.000000</td>\n",
       "      <td>1.000000</td>\n",
       "    </tr>\n",
       "    <tr>\n",
       "      <th>max</th>\n",
       "      <td>3332.169940</td>\n",
       "      <td>3315.585307</td>\n",
       "      <td>3371.405251</td>\n",
       "      <td>3322.714812</td>\n",
       "      <td>6.275969e+08</td>\n",
       "      <td>12.000000</td>\n",
       "      <td>4.000000</td>\n",
       "      <td>1.000000</td>\n",
       "    </tr>\n",
       "  </tbody>\n",
       "</table>\n",
       "</div>"
      ],
      "text/plain": [
       "              Open         High          Low        Close        Volume  \\\n",
       "count  1215.000000  1215.000000  1215.000000  1215.000000  1.215000e+03   \n",
       "mean   2592.667876  2605.199639  2579.766270  2593.598897  7.997662e+07   \n",
       "std     399.513247   390.801266   403.468549   399.894056  4.674681e+07   \n",
       "min    1175.790773  1196.282012   974.465374  1175.549864 -3.827092e+07   \n",
       "25%    2289.453313  2298.653209  2280.041144  2291.429359  5.514961e+07   \n",
       "50%    2684.107050  2716.053357  2664.629516  2682.332552  7.148134e+07   \n",
       "75%    2901.241799  2916.243042  2892.747794  2902.371369  9.134669e+07   \n",
       "max    3332.169940  3315.585307  3371.405251  3322.714812  6.275969e+08   \n",
       "\n",
       "             month      weekday        semes  \n",
       "count  1215.000000  1215.000000  1215.000000  \n",
       "mean      6.506996     2.020576     0.506996  \n",
       "std       3.479724     1.401484     0.500157  \n",
       "min       1.000000     0.000000     0.000000  \n",
       "25%       3.000000     1.000000     0.000000  \n",
       "50%       6.000000     2.000000     1.000000  \n",
       "75%      10.000000     3.000000     1.000000  \n",
       "max      12.000000     4.000000     1.000000  "
      ]
     },
     "execution_count": 26,
     "metadata": {},
     "output_type": "execute_result"
    }
   ],
   "source": [
    "df_stocks.describe()"
   ]
  },
  {
   "cell_type": "code",
   "execution_count": 27,
   "id": "52f82d44",
   "metadata": {},
   "outputs": [
    {
     "data": {
      "text/plain": [
       "Text(0, 0.5, 'Absolute Levels')"
      ]
     },
     "execution_count": 27,
     "metadata": {},
     "output_type": "execute_result"
    },
    {
     "data": {
      "image/png": "[encoded data removed]",
      "text/plain": [
       "<Figure size 1296x432 with 1 Axes>"
      ]
     },
     "metadata": {},
     "output_type": "display_data"
    }
   ],
   "source": [
    "df_stocks.iloc[:,:4].plot.box(figsize=(18, 6))\n",
    "plt.title(\"Boxplots for Numerical Variables\")\n",
    "plt.ylabel(\"Absolute Levels\")"
   ]
  },
  {
   "cell_type": "code",
   "execution_count": 28,
   "id": "1ae102b1",
   "metadata": {},
   "outputs": [
    {
     "data": {
      "text/plain": [
       "count    1215.000000\n",
       "mean     3889.467325\n",
       "std       591.857357\n",
       "min      1843.933317\n",
       "25%      3440.256292\n",
       "50%      4032.951877\n",
       "75%      4355.962845\n",
       "max      4993.527346\n",
       "dtype: float64"
      ]
     },
     "execution_count": 28,
     "metadata": {},
     "output_type": "execute_result"
    }
   ],
   "source": [
    "hlm = df_stocks.Open + df_stocks.Close / 2\n",
    "hlm.describe()"
   ]
  },
  {
   "cell_type": "code",
   "execution_count": 30,
   "id": "06071315",
   "metadata": {},
   "outputs": [
    {
     "data": {
      "text/plain": [
       "-1    0\n",
       "0     0\n",
       "1     0\n",
       "Name: Label, dtype: int64"
      ]
     },
     "execution_count": 30,
     "metadata": {},
     "output_type": "execute_result"
    }
   ],
   "source": [
    "df_stocks.Label.value_counts()"
   ]
  },
  {
   "cell_type": "code",
   "execution_count": 31,
   "id": "85fd75bc",
   "metadata": {},
   "outputs": [
    {
     "data": {
      "text/html": [
       "<div>\n",
       "<style scoped>\n",
       "    .dataframe tbody tr th:only-of-type {\n",
       "        vertical-align: middle;\n",
       "    }\n",
       "\n",
       "    .dataframe tbody tr th {\n",
       "        vertical-align: top;\n",
       "    }\n",
       "\n",
       "    .dataframe thead th {\n",
       "        text-align: right;\n",
       "    }\n",
       "</style>\n",
       "<table border=\"1\" class=\"dataframe\">\n",
       "  <thead>\n",
       "    <tr style=\"text-align: right;\">\n",
       "      <th></th>\n",
       "      <th>Open</th>\n",
       "      <th>High</th>\n",
       "      <th>Low</th>\n",
       "      <th>Close</th>\n",
       "      <th>Volume</th>\n",
       "      <th>month</th>\n",
       "      <th>weekday</th>\n",
       "      <th>semes</th>\n",
       "      <th>Label</th>\n",
       "    </tr>\n",
       "  </thead>\n",
       "  <tbody>\n",
       "    <tr>\n",
       "      <th>2011-09-02</th>\n",
       "      <td>1924.610575</td>\n",
       "      <td>1916.393353</td>\n",
       "      <td>1874.891249</td>\n",
       "      <td>1774.765164</td>\n",
       "      <td>1.129876e+08</td>\n",
       "      <td>9</td>\n",
       "      <td>4</td>\n",
       "      <td>1</td>\n",
       "      <td>NaN</td>\n",
       "    </tr>\n",
       "    <tr>\n",
       "      <th>2011-09-06</th>\n",
       "      <td>1774.108102</td>\n",
       "      <td>1674.075356</td>\n",
       "      <td>1584.581688</td>\n",
       "      <td>1536.728539</td>\n",
       "      <td>1.116886e+08</td>\n",
       "      <td>9</td>\n",
       "      <td>1</td>\n",
       "      <td>1</td>\n",
       "      <td>NaN</td>\n",
       "    </tr>\n",
       "    <tr>\n",
       "      <th>2011-09-07</th>\n",
       "      <td>1534.866113</td>\n",
       "      <td>1465.171247</td>\n",
       "      <td>1364.457399</td>\n",
       "      <td>1500.939730</td>\n",
       "      <td>1.556556e+08</td>\n",
       "      <td>9</td>\n",
       "      <td>2</td>\n",
       "      <td>1</td>\n",
       "      <td>NaN</td>\n",
       "    </tr>\n",
       "    <tr>\n",
       "      <th>2011-09-08</th>\n",
       "      <td>1500.781668</td>\n",
       "      <td>1720.381634</td>\n",
       "      <td>1657.602193</td>\n",
       "      <td>1825.507091</td>\n",
       "      <td>1.031916e+08</td>\n",
       "      <td>9</td>\n",
       "      <td>3</td>\n",
       "      <td>1</td>\n",
       "      <td>NaN</td>\n",
       "    </tr>\n",
       "    <tr>\n",
       "      <th>2011-09-09</th>\n",
       "      <td>1826.863367</td>\n",
       "      <td>1769.744756</td>\n",
       "      <td>1788.102364</td>\n",
       "      <td>1660.630500</td>\n",
       "      <td>1.120220e+08</td>\n",
       "      <td>9</td>\n",
       "      <td>4</td>\n",
       "      <td>1</td>\n",
       "      <td>NaN</td>\n",
       "    </tr>\n",
       "    <tr>\n",
       "      <th>...</th>\n",
       "      <td>...</td>\n",
       "      <td>...</td>\n",
       "      <td>...</td>\n",
       "      <td>...</td>\n",
       "      <td>...</td>\n",
       "      <td>...</td>\n",
       "      <td>...</td>\n",
       "      <td>...</td>\n",
       "      <td>...</td>\n",
       "    </tr>\n",
       "    <tr>\n",
       "      <th>2016-06-27</th>\n",
       "      <td>3004.726550</td>\n",
       "      <td>2913.801965</td>\n",
       "      <td>2459.595044</td>\n",
       "      <td>2418.701468</td>\n",
       "      <td>2.081323e+08</td>\n",
       "      <td>6</td>\n",
       "      <td>0</td>\n",
       "      <td>0</td>\n",
       "      <td>NaN</td>\n",
       "    </tr>\n",
       "    <tr>\n",
       "      <th>2016-06-28</th>\n",
       "      <td>2382.377694</td>\n",
       "      <td>2325.475820</td>\n",
       "      <td>2277.320727</td>\n",
       "      <td>2288.336736</td>\n",
       "      <td>1.008943e+08</td>\n",
       "      <td>6</td>\n",
       "      <td>1</td>\n",
       "      <td>0</td>\n",
       "      <td>NaN</td>\n",
       "    </tr>\n",
       "    <tr>\n",
       "      <th>2016-06-29</th>\n",
       "      <td>2352.022015</td>\n",
       "      <td>2525.422649</td>\n",
       "      <td>2516.452285</td>\n",
       "      <td>2666.596391</td>\n",
       "      <td>7.607727e+07</td>\n",
       "      <td>6</td>\n",
       "      <td>2</td>\n",
       "      <td>0</td>\n",
       "      <td>NaN</td>\n",
       "    </tr>\n",
       "    <tr>\n",
       "      <th>2016-06-30</th>\n",
       "      <td>2705.429032</td>\n",
       "      <td>2859.256414</td>\n",
       "      <td>2798.692069</td>\n",
       "      <td>2932.334435</td>\n",
       "      <td>7.185383e+07</td>\n",
       "      <td>6</td>\n",
       "      <td>3</td>\n",
       "      <td>0</td>\n",
       "      <td>NaN</td>\n",
       "    </tr>\n",
       "    <tr>\n",
       "      <th>2016-07-01</th>\n",
       "      <td>2937.087986</td>\n",
       "      <td>3036.266111</td>\n",
       "      <td>3005.985743</td>\n",
       "      <td>3100.851624</td>\n",
       "      <td>9.942421e+07</td>\n",
       "      <td>7</td>\n",
       "      <td>4</td>\n",
       "      <td>0</td>\n",
       "      <td>NaN</td>\n",
       "    </tr>\n",
       "  </tbody>\n",
       "</table>\n",
       "<p>1215 rows × 9 columns</p>\n",
       "</div>"
      ],
      "text/plain": [
       "                   Open         High          Low        Close        Volume  \\\n",
       "2011-09-02  1924.610575  1916.393353  1874.891249  1774.765164  1.129876e+08   \n",
       "2011-09-06  1774.108102  1674.075356  1584.581688  1536.728539  1.116886e+08   \n",
       "2011-09-07  1534.866113  1465.171247  1364.457399  1500.939730  1.556556e+08   \n",
       "2011-09-08  1500.781668  1720.381634  1657.602193  1825.507091  1.031916e+08   \n",
       "2011-09-09  1826.863367  1769.744756  1788.102364  1660.630500  1.120220e+08   \n",
       "...                 ...          ...          ...          ...           ...   \n",
       "2016-06-27  3004.726550  2913.801965  2459.595044  2418.701468  2.081323e+08   \n",
       "2016-06-28  2382.377694  2325.475820  2277.320727  2288.336736  1.008943e+08   \n",
       "2016-06-29  2352.022015  2525.422649  2516.452285  2666.596391  7.607727e+07   \n",
       "2016-06-30  2705.429032  2859.256414  2798.692069  2932.334435  7.185383e+07   \n",
       "2016-07-01  2937.087986  3036.266111  3005.985743  3100.851624  9.942421e+07   \n",
       "\n",
       "            month  weekday  semes Label  \n",
       "2011-09-02      9        4      1   NaN  \n",
       "2011-09-06      9        1      1   NaN  \n",
       "2011-09-07      9        2      1   NaN  \n",
       "2011-09-08      9        3      1   NaN  \n",
       "2011-09-09      9        4      1   NaN  \n",
       "...           ...      ...    ...   ...  \n",
       "2016-06-27      6        0      0   NaN  \n",
       "2016-06-28      6        1      0   NaN  \n",
       "2016-06-29      6        2      0   NaN  \n",
       "2016-06-30      6        3      0   NaN  \n",
       "2016-07-01      7        4      0   NaN  \n",
       "\n",
       "[1215 rows x 9 columns]"
      ]
     },
     "execution_count": 31,
     "metadata": {},
     "output_type": "execute_result"
    }
   ],
   "source": [
    "df_stocks"
   ]
  },
  {
   "cell_type": "code",
   "execution_count": null,
   "id": "0578a035",
   "metadata": {},
   "outputs": [],
   "source": [
    "labels = [\"Positivo\", \"Negativo\", \"Neutrale\"]\n",
    "colors = sns.color_palette('pastel')[0:3]\n",
    "plt.pie(df_stocks[\"Label\"].value_counts(), labels = labels, colors = colors, autopct='%.0f%%');"
   ]
  },
  {
   "cell_type": "code",
   "execution_count": null,
   "id": "0484eea4",
   "metadata": {},
   "outputs": [],
   "source": [
    "df_stocks[\"Label\"].value_counts()"
   ]
  },
  {
   "cell_type": "markdown",
   "id": "d8d8b0f3",
   "metadata": {},
   "source": [
    "The axiom so often coined in financial media \"Sell in May, go away, come again St. Leger's day (September 15)\""
   ]
  },
  {
   "cell_type": "code",
   "execution_count": null,
   "id": "5317c841",
   "metadata": {},
   "outputs": [],
   "source": [
    "fig, axes = plt.subplots(ncols=3, nrows=2, figsize=(18, 16))\n",
    "fig.suptitle('** Distribuzioni variabili numeriche **', fontsize=20)\n",
    "\n",
    "\n",
    "for col, ax in zip(df_stocks.iloc[:,:5], axes.flat):\n",
    "    sns.distplot(df_stocks[col], color=\"blue\", hist=True, ax=ax)\n",
    "    \n",
    "fig.tight_layout()\n",
    "fig.delaxes(axes[1, 2])"
   ]
  },
  {
   "cell_type": "code",
   "execution_count": null,
   "id": "fa6ac9b7",
   "metadata": {},
   "outputs": [],
   "source": [
    "Il \"fractional differencing\""
   ]
  },
  {
   "cell_type": "code",
   "execution_count": null,
   "id": "64a9a929",
   "metadata": {},
   "outputs": [],
   "source": [
    "semes_labels: { 0: \"go away\", 1: \"come again\" }\n",
    "df_stocks[\"Label\"].groupby(df_stocks[\"semes\"]).value_counts()\n",
    "\n",
    "for i in [0, 1]:\n",
    "    plt.pie(df_stocks[\"Label\"].groupby(df_stocks[\"semes\"]).value_counts()[0])"
   ]
  },
  {
   "cell_type": "code",
   "execution_count": null,
   "id": "6658604f",
   "metadata": {},
   "outputs": [],
   "source": [
    "df_stocks[\"Label\"].groupby(df_stocks[\"weekday\"]).value_counts().plot.pie()"
   ]
  },
  {
   "cell_type": "code",
   "execution_count": null,
   "id": "60b63d93",
   "metadata": {},
   "outputs": [],
   "source": [
    "g = sns.displot(df_stocks, x=df_stocks[\"weekday\"], bins=20, multiple=\"dodge\", stat=\"density\");"
   ]
  },
  {
   "cell_type": "code",
   "execution_count": null,
   "id": "9d68ce73",
   "metadata": {},
   "outputs": [],
   "source": [
    "plt.figure(figsize=(6,4))\n",
    "\n",
    "corr = df_stocks.iloc[:, :5].corr(method = 'spearman')\n",
    "mask = np.triu(corr)\n",
    "sns.heatmap(corr, square=False, mask=mask, annot = True, vmax=1, vmin=-1, linecolor=\"white\", linewidths=0.5, cmap = \"RdBu\");"
   ]
  },
  {
   "cell_type": "code",
   "execution_count": null,
   "id": "7b8232e6",
   "metadata": {},
   "outputs": [],
   "source": []
  },
  {
   "cell_type": "code",
   "execution_count": null,
   "id": "ea8ec247",
   "metadata": {},
   "outputs": [],
   "source": [
    "df_stocks[\"Label\"].groupby(df_stocks[\"semes\"]).value_counts()"
   ]
  },
  {
   "cell_type": "code",
   "execution_count": null,
   "id": "7c26ba5c",
   "metadata": {},
   "outputs": [],
   "source": [
    " Maggio a Ottobre rispetto al periodo da Novembre ad Aprile."
   ]
  },
  {
   "cell_type": "code",
   "execution_count": null,
   "id": "3902b79d",
   "metadata": {},
   "outputs": [],
   "source": [
    "df_stocks.iloc[0:4]"
   ]
  },
  {
   "cell_type": "markdown",
   "id": "7d85beaf",
   "metadata": {},
   "source": [
    "## NLP"
   ]
  },
  {
   "cell_type": "code",
   "execution_count": null,
   "id": "4ad4d1c5",
   "metadata": {},
   "outputs": [],
   "source": [
    "news = pd.read_csv(\"archive/Combined_News_DJIA.csv\", parse_dates=['Date'], index_col=[\"Date\"]).drop('Label', axis=1, inplace=False)\n",
    "# news[\"Label\"] = news[\"Label\"].astype(\"category\")"
   ]
  },
  {
   "cell_type": "code",
   "execution_count": null,
   "id": "4b07fb9f",
   "metadata": {},
   "outputs": [],
   "source": [
    "news.sample(1)"
   ]
  },
  {
   "cell_type": "code",
   "execution_count": null,
   "id": "d24efcd5",
   "metadata": {},
   "outputs": [],
   "source": [
    "is_NaN = news.isnull()\n",
    "row_has_NaN = is_NaN.any(axis=1)\n",
    "col_has_NaN = is_NaN.any(axis=0)\n",
    "cells_with_NaN = news.loc[row_has_NaN, col_has_NaN]\n",
    "\n",
    "print('---------------------------------------')\n",
    "print(f'  NaN: {news.isnull().sum().sum(axis=0)}')\n",
    "print(f' Cols:',*news.columns[col_has_NaN == True])\n",
    "print(f'Index:', *cells_with_NaN.index.date)\n",
    "print('---------------------------------------')\n",
    "\n",
    "cells_with_NaN.head()"
   ]
  },
  {
   "cell_type": "code",
   "execution_count": null,
   "id": "0e94900f",
   "metadata": {},
   "outputs": [],
   "source": [
    "# inplace=True for slice of a dataframe won't work. It works on complete dataframe.\n",
    "news.loc[row_has_NaN, col_has_NaN] = news.loc[row_has_NaN, col_has_NaN].fillna(\"\", inplace=False)\n",
    "\n",
    "print('---------------------------------------')\n",
    "print(f'  NaN: {news.isnull().sum().sum(axis=0)}')\n",
    "print('---------------------------------------')"
   ]
  },
  {
   "cell_type": "markdown",
   "id": "975efe50",
   "metadata": {},
   "source": [
    "## Suddivisione dati"
   ]
  },
  {
   "cell_type": "code",
   "execution_count": null,
   "id": "f09bacf1",
   "metadata": {},
   "outputs": [],
   "source": [
    "news_cols = [f\"Top{i}\" for i in range(1, 26)]\n",
    "\n",
    "def aggregate(l=0, a=0):\n",
    "    \"\"\"\n",
    "    Parameters:\n",
    "    ---------------------\n",
    "    l: (int) shift for a (1+l) value\n",
    "    a: (int) aggregate for (a) value\n",
    "    ---------------------\n",
    "    Returns:\n",
    "    ---------------------\n",
    "    one column news (data frame)\n",
    "    ---------------------\n",
    "    \"\"\"\n",
    "    \n",
    "    news[news_cols] = news[news_cols].apply(lambda col: col.shift(1+l))\n",
    "    news.dropna(inplace=True)\n",
    "\n",
    "    return pd.Series([str(news[news_cols][max(0, line - a) : line + 1].values.ravel('F')) \n",
    "                         for line, _ in enumerate(news.itertuples())], name='News', index=news.index)"
   ]
  },
  {
   "cell_type": "code",
   "execution_count": null,
   "id": "7851d8d6",
   "metadata": {},
   "outputs": [],
   "source": [
    "try: X\n",
    "except NameError: X = aggregate(0, 0)\n",
    "try: y\n",
    "except NameError: y = news.Label2"
   ]
  },
  {
   "cell_type": "code",
   "execution_count": null,
   "id": "98bd714b",
   "metadata": {},
   "outputs": [],
   "source": [
    "filters = [ '!', '\"', '#', '$', '%', '&', '(', ')', '*', '+', '-', '.', '/',  '\\\\', ':', ';', '<', '=', '>',\n",
    "           '?', '@', '[', ']', '^', '_', '`', '{', '|', '}', '\\t','\\n',\",\",'~' , '—', 'b']\n",
    "\n",
    "for i in range(X.size):\n",
    "    for filter in filters:\n",
    "        X[i] = X[i].replace(filter, '').strip()"
   ]
  },
  {
   "cell_type": "code",
   "execution_count": null,
   "id": "aeff2fb2",
   "metadata": {},
   "outputs": [],
   "source": [
    "X_train, X_test, y_train, y_test = train_test_split(X, y, test_size=.4, shuffle=False, random_state=rnd_state)\n",
    "X_test, X_val, y_test, y_val = train_test_split(X_test, y_test, test_size=.5, shuffle=False, random_state=rnd_state)"
   ]
  },
  {
   "cell_type": "code",
   "execution_count": null,
   "id": "a91e92c6",
   "metadata": {},
   "outputs": [],
   "source": [
    "tss = TimeSeriesSplit(3)\n",
    "\n",
    "for i, (train, val) in enumerate(tss.split(X), start=1):\n",
    "    print(\"FOLD {}\".format(i))\n",
    "    train_dates = X.index[train]\n",
    "    val_dates = X.index[val]\n",
    "    print(\"Training set da {} a {}\".format(train_dates.min(), train_dates.max()))\n",
    "    print(\"Validation set da {} a {}\".format(val_dates.min(), val_dates.max()))"
   ]
  },
  {
   "cell_type": "markdown",
   "id": "0f471872",
   "metadata": {},
   "source": [
    "## Classificatore casuale"
   ]
  },
  {
   "cell_type": "code",
   "execution_count": null,
   "id": "5ee3e86f",
   "metadata": {},
   "outputs": [],
   "source": [
    "sns.displot(stocks[\"Delta\"], aspect=3, kind=\"kde\", color=\"blue\");"
   ]
  },
  {
   "cell_type": "code",
   "execution_count": null,
   "id": "aa03f9e8",
   "metadata": {},
   "outputs": [],
   "source": [
    "np.random.seed(rnd_state)\n",
    "random_preds = np.random.normal(y_train.mean(), y_train.std(), len(y_val))\n",
    "\n",
    "random_preds = np.clip(list(map(lambda a : round(a), random_preds)), -1, 1)"
   ]
  },
  {
   "cell_type": "code",
   "execution_count": null,
   "id": "b2e5969a",
   "metadata": {},
   "outputs": [],
   "source": [
    "((random_preds == y_val) * 1).sum()/len(y_val)"
   ]
  },
  {
   "cell_type": "markdown",
   "id": "da08e542",
   "metadata": {},
   "source": [
    "## NLP"
   ]
  },
  {
   "cell_type": "code",
   "execution_count": null,
   "id": "6143560e",
   "metadata": {},
   "outputs": [],
   "source": [
    "gpu_X_train = cudf.Series.from_pandas(X_train)\n",
    "gpu_y_train = cudf.Series.from_pandas(y_train)\n",
    "gpu_X_test = cudf.Series.from_pandas(X_test)\n",
    "gpu_y_test = cudf.Series.from_pandas(y_test)"
   ]
  },
  {
   "cell_type": "code",
   "execution_count": null,
   "id": "e76185c2",
   "metadata": {},
   "outputs": [],
   "source": [
    "from cuml.preprocessing.text.stem import PorterStemmer\n",
    "stoplist = nltk.corpus.stopwords.words(\"english\")\n",
    "stemmer = PorterStemmer()"
   ]
  },
  {
   "cell_type": "code",
   "execution_count": null,
   "id": "a1603046",
   "metadata": {},
   "outputs": [],
   "source": [
    "def my_scorer(y_true, y_predicted):\n",
    "    error = math.sqrt(np.mean((y_true - y_predicted)**2))\n",
    "    return error"
   ]
  },
  {
   "cell_type": "code",
   "execution_count": null,
   "id": "5fa4aac1",
   "metadata": {},
   "outputs": [],
   "source": [
    "def my_tokenizer(text):\n",
    "    return [stemmer.stem(token.lower()) for token in nltk.tokenize.word_tokenize(text) if token not in stoplist]"
   ]
  },
  {
   "cell_type": "code",
   "execution_count": null,
   "id": "ac9dcef2",
   "metadata": {},
   "outputs": [],
   "source": [
    "from cuml.pipeline import Pipeline\n",
    "from cuml.feature_extraction.text import TfidfVectorizer\n",
    "from cuml.linear_model import LogisticRegression\n",
    "from sklearn.model_selection import GridSearchCV\n",
    "\n",
    "params = {\n",
    "    'penalty': ('l1', 'l2'),\n",
    "    'C': np.linspace(1, 100, 100, endpoint=False)\n",
    "}\n",
    "\n",
    "model1 = TfidfVectorizer(min_df= 3, stop_words='english', ngram_range=(1,1))\n",
    "model2 = LogisticRegression(C=10, class_weight='balanced')\n",
    "\n",
    "gs = GridSearchCV(model2, params, cv=tss, verbose=10)"
   ]
  },
  {
   "cell_type": "code",
   "execution_count": null,
   "id": "b0a3d71a",
   "metadata": {
    "scrolled": true
   },
   "outputs": [],
   "source": [
    "%%time\n",
    "vect = model1.fit_transform(gpu_X_train)\n",
    "gs.fit(vect.toarray(), y_train)\n",
    "print(f'Migliori iperparametri: {gs.best_params_}')"
   ]
  },
  {
   "cell_type": "code",
   "execution_count": null,
   "id": "5d4f8bd6",
   "metadata": {},
   "outputs": [],
   "source": [
    "vect2 = model1.transform(gpu_X_test)"
   ]
  },
  {
   "cell_type": "code",
   "execution_count": null,
   "id": "304f2dfb",
   "metadata": {},
   "outputs": [],
   "source": [
    "gs.score(vect2.toarray(), gpu_y_test)"
   ]
  },
  {
   "cell_type": "code",
   "execution_count": null,
   "id": "fe763d09",
   "metadata": {},
   "outputs": [],
   "source": [
    "from cuml.metrics import confusion_matrix\n",
    "y_pred = gs.predict(vect2.toarray())\n",
    "cf_matrix = confusion_matrix(y_val, y_pred)"
   ]
  },
  {
   "cell_type": "code",
   "execution_count": null,
   "id": "a45009aa",
   "metadata": {},
   "outputs": [],
   "source": [
    "cf_matrix"
   ]
  },
  {
   "cell_type": "code",
   "execution_count": null,
   "id": "c96288a2",
   "metadata": {},
   "outputs": [],
   "source": [
    "y_pred_prob = gs.predict_proba(vect2.toarray())"
   ]
  },
  {
   "cell_type": "code",
   "execution_count": null,
   "id": "6a4e68d5",
   "metadata": {},
   "outputs": [],
   "source": [
    "predicted_true = np.where(y_pred_prob > 0.90)[0]"
   ]
  },
  {
   "cell_type": "code",
   "execution_count": null,
   "id": "98099596",
   "metadata": {},
   "outputs": [],
   "source": [
    "print(f\"istanze train: {y_train.size}, istanze val: {y_val.size}, istanze prob 0.70: {predicted_true.size}\")"
   ]
  },
  {
   "cell_type": "code",
   "execution_count": null,
   "id": "5ced8666",
   "metadata": {},
   "outputs": [],
   "source": [
    "print(f\"l''algoritmo di classificazione predice con sicurezza: {(y_pred[predicted_true] == gpu_y_test.iloc[predicted_true]).sum()/predicted_true.size}\")"
   ]
  },
  {
   "cell_type": "code",
   "execution_count": null,
   "id": "cb920c8d",
   "metadata": {},
   "outputs": [],
   "source": [
    "gpu_y_test.iloc[predicted_true]"
   ]
  },
  {
   "cell_type": "code",
   "execution_count": null,
   "id": "c02262da",
   "metadata": {},
   "outputs": [],
   "source": []
  }
 ],
 "metadata": {
  "kernelspec": {
   "display_name": "Python 3 (ipykernel)",
   "language": "python",
   "name": "python3"
  },
  "language_info": {
   "codemirror_mode": {
    "name": "ipython",
    "version": 3
   },
   "file_extension": ".py",
   "mimetype": "text/x-python",
   "name": "python",
   "nbconvert_exporter": "python",
   "pygments_lexer": "ipython3",
   "version": "3.8.10"
  }
 },
 "nbformat": 4,
 "nbformat_minor": 5
}
